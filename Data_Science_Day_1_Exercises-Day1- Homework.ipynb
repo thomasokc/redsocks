{
 "cells": [
  {
   "cell_type": "markdown",
   "metadata": {},
   "source": [
    "# Exercises"
   ]
  },
  {
   "cell_type": "markdown",
   "metadata": {},
   "source": [
    "### #1 - Calculate the BMI (body mass index) on the two lists below using NDArrays..."
   ]
  },
  {
   "cell_type": "code",
   "execution_count": 9,
   "metadata": {},
   "outputs": [
    {
     "data": {
      "text/plain": [
       "array([16.86620458, 17.87755102, 18.82562984, 19.71450617, 20.54794521,\n",
       "       21.32943755, 22.06222222])"
      ]
     },
     "execution_count": 9,
     "metadata": {},
     "output_type": "execute_result"
    }
   ],
   "source": [
    "import numpy as np\n",
    "# formula = weight / (height**2) * 730\n",
    "height = np.array([69, 70, 71, 72, 73, 74, 75])\n",
    "weight = np.array([110, 120, 130, 140, 150, 160, 170])\n",
    "\n",
    "# OUTPUT: [16.86620458 17.87755102 18.82562984 19.71450617 20.54794521 21.32943755\n",
    "# 22.06222222]\n",
    "\n",
    "bmi = weight / (height**2) * 730\n",
    "bmi"
   ]
  },
  {
   "cell_type": "markdown",
   "metadata": {},
   "source": [
    "### #2 - Create a function that will take in two parameters and will create a random matrix based off of those parameters. Extra: Have additional parameters taken in that allow the user to choose the shape and data type of the matrix."
   ]
  },
  {
   "cell_type": "code",
   "execution_count": 30,
   "metadata": {},
   "outputs": [
    {
     "data": {
      "text/plain": [
       "array([[1.75297403, 1.54975864, 1.48960595],\n",
       "       [1.27509882, 1.44962314, 1.42257144],\n",
       "       [1.30134476, 1.50882105, 1.72324951]])"
      ]
     },
     "execution_count": 30,
     "metadata": {},
     "output_type": "execute_result"
    }
   ],
   "source": [
    "\"\"\"\n",
    "Example Result\n",
    "array([[14.21633515,  7.98846653,  9.64140715],\n",
    "       [ 6.30982234,  9.96414331,  8.43153688],\n",
    "       [14.73102068, 11.76072894, 14.23356121]])\n",
    "\"\"\"\n",
    "# def makeMatrix(low,high,shape,data_type = float): -- Example\n",
    "#     pass\n",
    "uno = np.random.uniform(1,10)\n",
    "dose = np.random.uniform(1,10)\n",
    "\n",
    "def rando(uno,dose):\n",
    "    return np.random.uniform(uno,dose,(3,3))\n",
    "    \n",
    "rando(uno,dose)"
   ]
  },
  {
   "cell_type": "markdown",
   "metadata": {},
   "source": [
    "### #3 - Extra: Open and load the data in the two text files that have the Boston Red Sox hitting data for the past seasons. Compare the difference in the two years by putting the data into an NDArray and running a differencial operation on it. The column to look for will be SLG.\n",
    "\n",
    "Your output should display which year (either 2017 or 2018) was a better year based on SLG"
   ]
  },
  {
   "cell_type": "code",
   "execution_count": 36,
   "metadata": {},
   "outputs": [
    {
     "name": "stdout",
     "output_type": "stream",
     "text": [
      "[['Rk', 'Pos', 'Name', 'Age', 'G', 'PA', 'AB', 'R', 'H', '2B', '3B', 'HR', 'RBI', 'SB', 'CS', 'BB', 'SO', 'BA', 'OBP', 'SLG', 'OPS', 'OPS+', 'TB', 'GDP', 'HBP', 'SH', 'SF', 'IBB'], ['1', 'C', 'Christian Vazquez', '26', '99', '345', '324', '43', '94', '18', '2', '5', '32', '7', '2', '17', '64', '.290', '.330', '.404', '.735', '91', '131', '14', '3', '0', '1', '0'], ['2', '1B', 'Mitch Moreland', '31', '149', '576', '508', '73', '125', '34', '0', '22', '79', '0', '1', '57', '120', '.246', '.326', '.443', '.769', '99', '225', '14', '6', '0', '5', '6'], ['3', '2B', 'Dustin Pedroia', '33', '105', '463', '406', '46', '119', '19', '0', '7', '62', '4', '3', '49', '48', '.293', '.369', '.392', '.760', '100', '159', '11', '2', '2', '4', '4'], ['4', 'SS', 'Xander Bogaerts', '24', '148', '635', '571', '94', '156', '32', '6', '10', '62', '15', '1', '56', '116', '.273', '.343', '.403', '.746', '95', '230', '17', '6', '0', '2', '6'], ['5', '3B', 'Rafael Devers', '20', '58', '240', '222', '34', '63', '14', '0', '10', '30', '3', '1', '18', '57', '.284', '.338', '.482', '.819', '111', '107', '5', '0', '0', '0', '3'], ['6', 'LF', 'Andrew Benintendi', '22', '151', '658', '573', '84', '155', '26', '1', '20', '90', '20', '5', '70', '112', '.271', '.352', '.424', '.776', '102', '243', '16', '6', '1', '8', '7'], ['7', 'CF', 'Jackie Bradley Jr.', '27', '133', '541', '482', '58', '118', '19', '3', '17', '63', '8', '3', '48', '124', '.245', '.323', '.402', '.726', '89', '194', '8', '9', '0', '2', '4'], ['8', 'RF', 'Mookie Betts', '24', '153', '712', '628', '101', '166', '46', '2', '24', '102', '26', '3', '77', '79', '.264', '.344', '.459', '.803', '108', '288', '9', '2', '0', '5', '9'], ['9', 'DH', 'Hanley Ramirez', '33', '133', '553', '496', '58', '120', '24', '0', '23', '62', '1', '3', '51', '116', '.242', '.320', '.429', '.750', '94', '213', '15', '6', '0', '0', '8'], ['10', 'C', 'Sandy Leon', '28', '85', '301', '271', '32', '61', '14', '0', '7', '39', '0', '0', '25', '74', '.225', '.290', '.354', '.644', '68', '96', '5', '1', '1', '3', '1'], ['11', 'UT', 'Chris Young', '33', '90', '276', '243', '30', '57', '12', '2', '7', '25', '3', '2', '30', '55', '.235', '.322', '.387', '.709', '85', '94', '4', '2', '0', '1', '0'], ['12', '3B', 'Deven Marrero', '26', '71', '188', '171', '32', '36', '9', '0', '4', '27', '5', '0', '12', '61', '.211', '.259', '.333', '.593', '54', '57', '8', '0', '3', '2', '0'], ['13', '2B', 'Eduardo Nunez', '30', '38', '173', '165', '23', '53', '12', '0', '8', '27', '6', '2', '6', '25', '.321', '.353', '.539', '.892', '128', '89', '3', '2', '0', '0', '0'], ['14', '2B', 'Brock Holt', '29', '64', '164', '140', '20', '28', '6', '0', '0', '7', '2', '1', '19', '34', '.200', '.305', '.243', '.548', '47', '34', '3', '3', '0', '2', '0'], ['15', 'IF', 'Josh Rutledge', '28', '37', '118', '107', '10', '24', '2', '1', '0', '9', '1', '0', '9', '31', '.224', '.297', '.262', '.558', '49', '28', '1', '2', '0', '0', '0'], ['16', '3B', 'Pablo Sandoval', '30', '32', '108', '99', '10', '21', '2', '0', '4', '12', '0', '1', '8', '24', '.212', '.269', '.354', '.622', '61', '35', '4', '0', '0', '1', '0'], ['17', 'UT', 'Sam Travis', '23', '33', '83', '76', '13', '20', '6', '0', '0', '1', '1', '0', '6', '23', '.263', '.325', '.342', '.667', '75', '26', '2', '1', '0', '0', '0'], ['18', 'UT', 'Tzu-Wei Lin', '23', '25', '66', '56', '7', '15', '0', '2', '0', '2', '1', '1', '9', '17', '.268', '.369', '.339', '.709', '88', '19', '0', '0', '1', '0', '0'], ['19', 'IF', 'Marco Hernandez', '24', '21', '60', '58', '7', '16', '3', '0', '0', '2', '0', '1', '1', '15', '.276', '.300', '.328', '.628', '65', '19', '0', '1', '0', '0', '0'], ['20', 'UT', 'Rajai Davis', '36', '17', '38', '36', '7', '9', '2', '0', '0', '2', '3', '1', '1', '13', '.250', '.289', '.306', '.595', '56', '11', '2', '1', '0', '0', '0'], ['21', 'UT', 'Steve Selsky', '27', '8', '9', '9', '0', '1', '1', '0', '0', '0', '0', '0', '0', '5', '.111', '.111', '.222', '.333', '-16', '2', '0', '0', '0', '0', '0'], ['22', 'UT', 'Blake Swihart', '25', '6', '7', '5', '1', '1', '0', '0', '0', '0', '0', '0', '2', '3', '.200', '.429', '.200', '.629', '74', '1', '0', '0', '0', '0', '0'], ['23', '2B', \"Chase d'Arnaud\", '30', '2', '1', '1', '2', '1', '0', '0', '0', '0', '0', '0', '0', '0', '1.000', '1.000', '1.000', '2.000', '428', '1', '0', '0', '0', '0', '0']]\n"
     ]
    }
   ],
   "source": [
    "import csv\n",
    "import numpy as np\n",
    "\n",
    "#Test to make sure you have the correct data\n",
    "def open_csv(filename, d = ','):\n",
    "    # define an empty list to store data\n",
    "    data = []\n",
    "    \n",
    "    with open(filename, encoding = 'utf-8') as mData:\n",
    "        # use the csv reader method to create a python list\n",
    "        info = csv.reader(mData, delimiter = d)\n",
    "        \n",
    "        # Loop over info and append to data list\n",
    "        for row in info:\n",
    "            data.append(row)\n",
    "    return data\n",
    "\n",
    "year1 = open_csv('redsox_2017_hitting.txt')\n",
    "year2 = open_csv('redsox_2018_hitting.txt')\n",
    "\n",
    "print(year1)"
   ]
  },
  {
   "cell_type": "code",
   "execution_count": 44,
   "metadata": {},
   "outputs": [
    {
     "name": "stdout",
     "output_type": "stream",
     "text": [
      "\n",
      " The best year based on SLG was: 9.04699994623661\n"
     ]
    }
   ],
   "source": [
    "\"\"\"\n",
    "Example Result - Not the actual result\n",
    "Boston 18 had more SLG in 2018\n",
    "[0.404 0.443 0.392 0.403 0.482 0.424 0.402 0.459 0.429 0.354 0.387 0.333\n",
    " 0.539 0.243 0.262 0.354 0.342 0.339 0.328 0.306 0.222 0.2   1.   ]\n",
    "\"\"\"\n",
    "\n",
    "FIELDS = ['Rk', 'Pos', 'Name', 'Age', 'G', 'PA', 'AB', 'R', 'H', '2B', '3B', 'HR', 'RBI', 'SB', 'CS', \n",
    "          'BB', 'SO', 'BA', 'OBP', 'SLG', 'OPS', 'OPS+', 'TB', 'GDP', 'HBP', 'SH', 'SF', 'IBB']\n",
    "\n",
    "DATATYPES = [('rk', 'i'), ('pos', '|S25'), ('name', '|S25'), ('age', 'i'), ('g', 'i'), ('pa', 'i'), ('ab', 'i'),\n",
    "                ('r', 'i'), ('h', 'i'), ('2b', 'i'), ('3b', 'i'), ('hr', 'i'), ('rbi', 'i'), ('sb', 'i'), ('cs', 'i'),\n",
    "                ('bb', 'i'), ('so', 'i'), ('ba', 'f'), ('obp', 'f'), ('slg', 'f'), ('ops', 'f'), ('opsp', 'i'),\n",
    "                ('tb', 'i'), ('gdp', 'i'), ('hbp', 'i'), ('sh', 'i'), ('sf', 'i'), ('ibb', 'i')]\n",
    "\n",
    "#Use this function to actually open the data inside of a NDArray\n",
    "\n",
    "def load_data(filename, d = ','):\n",
    "    data = np.genfromtxt(filename, delimiter = d, skip_header = 1,\n",
    "                        usecols = np.arange(0,24), invalid_raise = False,\n",
    "                        names = FIELDS, dtype = DATATYPES)\n",
    "    return data\n",
    "\n",
    "bs2017 = load_data('redsox_2017_hitting.txt')\n",
    "bs2018 = load_data('redsox_2018_hitting.txt')\n",
    "\n",
    "\n",
    "# Find Total Hits\n",
    "szn2017 = sum(bs2017['SLG'])\n",
    "szn2018 = sum(bs2018['SLG'])\n",
    "\n",
    "\n",
    "# Find Total Home Runs for the Red Sox 2017 team\n",
    "def betta(year1,year2):\n",
    "    if year1 > year2:\n",
    "        return year1\n",
    "    else:\n",
    "        return year2\n",
    "    \n",
    "winner = betta(szn2017,szn2018)\n",
    "print(f'\\n The best year based on SLG was: {winner}')"
   ]
  },
  {
   "cell_type": "code",
   "execution_count": null,
   "metadata": {},
   "outputs": [],
   "source": []
  },
  {
   "cell_type": "code",
   "execution_count": null,
   "metadata": {},
   "outputs": [],
   "source": []
  },
  {
   "cell_type": "code",
   "execution_count": null,
   "metadata": {},
   "outputs": [],
   "source": []
  }
 ],
 "metadata": {
  "kernelspec": {
   "display_name": "Python 3 (ipykernel)",
   "language": "python",
   "name": "python3"
  },
  "language_info": {
   "codemirror_mode": {
    "name": "ipython",
    "version": 3
   },
   "file_extension": ".py",
   "mimetype": "text/x-python",
   "name": "python",
   "nbconvert_exporter": "python",
   "pygments_lexer": "ipython3",
   "version": "3.9.7"
  }
 },
 "nbformat": 4,
 "nbformat_minor": 2
}
